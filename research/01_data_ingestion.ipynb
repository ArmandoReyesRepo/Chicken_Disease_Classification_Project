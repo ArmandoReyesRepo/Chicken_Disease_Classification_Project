{
 "cells": [
  {
   "cell_type": "code",
   "execution_count": 2,
   "id": "6ca929ad",
   "metadata": {},
   "outputs": [],
   "source": [
    "import os"
   ]
  },
  {
   "cell_type": "code",
   "execution_count": 3,
   "id": "aadf0d6b",
   "metadata": {},
   "outputs": [
    {
     "data": {
      "text/plain": [
       "'/Users/armandoreyesmartinez/00_End_to_End_ML/Chicken_Disease_Classification_Project/research'"
      ]
     },
     "execution_count": 3,
     "metadata": {},
     "output_type": "execute_result"
    }
   ],
   "source": [
    "%pwd"
   ]
  },
  {
   "cell_type": "code",
   "execution_count": 4,
   "id": "4f9cd4c4",
   "metadata": {},
   "outputs": [],
   "source": [
    "os.chdir('../')"
   ]
  },
  {
   "cell_type": "code",
   "execution_count": 5,
   "id": "3331eb96",
   "metadata": {},
   "outputs": [
    {
     "data": {
      "text/plain": [
       "'/Users/armandoreyesmartinez/00_End_to_End_ML/Chicken_Disease_Classification_Project'"
      ]
     },
     "execution_count": 5,
     "metadata": {},
     "output_type": "execute_result"
    }
   ],
   "source": [
    "os.getcwd()"
   ]
  },
  {
   "cell_type": "code",
   "execution_count": 6,
   "id": "3df4c006",
   "metadata": {},
   "outputs": [
    {
     "data": {
      "text/plain": [
       "'/Users/armandoreyesmartinez/00_End_to_End_ML/Chicken_Disease_Classification_Project'"
      ]
     },
     "execution_count": 6,
     "metadata": {},
     "output_type": "execute_result"
    }
   ],
   "source": [
    "%pwd"
   ]
  },
  {
   "cell_type": "code",
   "execution_count": 7,
   "id": "e9250dd1",
   "metadata": {},
   "outputs": [],
   "source": [
    "from dataclasses import dataclass\n",
    "from pathlib import Path\n",
    "\n",
    "@dataclass(frozen=True)\n",
    "class DataIngestionConfig:\n",
    "    root_dir: Path\n",
    "    source_URL: str\n",
    "    local_data_file: Path\n",
    "    unzip_dir: Path\n",
    "    \n"
   ]
  },
  {
   "cell_type": "code",
   "execution_count": 8,
   "id": "7b1eb84b",
   "metadata": {},
   "outputs": [],
   "source": [
    "## This is a unit test that need to be improved\n",
    "import unittest\n",
    "\n",
    "# Compatibility for different Python versions\n",
    "if not hasattr(unittest.TestCase, 'assertRaisesRegexp'):\n",
    "    unittest.TestCase.assertRaisesRegexp = unittest.TestCase.assertRaisesRegex\n",
    "\n",
    "\n",
    "from cnnClassifier.constants import *\n",
    "from cnnClassifier.utils.common import read_yaml, create_directories\n",
    "from cnnClassifier import logger\n"
   ]
  },
  {
   "cell_type": "code",
   "execution_count": 9,
   "id": "39f3d719",
   "metadata": {},
   "outputs": [],
   "source": [
    "from box import ConfigBox\n",
    "from box.exceptions import BoxValueError\n",
    "\n",
    "class ConfigurationManager:\n",
    "    def __init__(\n",
    "        self,\n",
    "        config_filepath = CONFIG_FILE_PATH,\n",
    "        params_filepath = PARAMS_FILE_PATH):\n",
    "        try:\n",
    "            # Verify files exist\n",
    "            if not os.path.exists(config_filepath):\n",
    "                raise FileNotFoundError(f\"Config file not found at {config_filepath}\")\n",
    "            if not os.path.exists(params_filepath):\n",
    "                raise FileNotFoundError(f\"Params file not found at {params_filepath}\")\n",
    "                \n",
    "            self.config = read_yaml(config_filepath)\n",
    "            self.params = read_yaml(params_filepath)\n",
    "            \n",
    "            # Verify required fields\n",
    "            if not self.config.get('artifacts_root'):\n",
    "                raise ValueError(\"artifacts_root not found in config\")\n",
    "                \n",
    "            create_directories([self.config.artifacts_root])\n",
    "            \n",
    "        except BoxValueError as e:\n",
    "            logger.error(f\"Configuration error in YAML parsing: {e}\")\n",
    "            raise\n",
    "        except Exception as e:\n",
    "            logger.error(f\"Error in configuration: {str(e)}\")\n",
    "            raise\n",
    "\n",
    "\n",
    "    \n",
    "    def get_data_ingestion_config(self) -> DataIngestionConfig:\n",
    "        config = self.config.data_ingestion\n",
    "\n",
    "        create_directories([config.root_dir])\n",
    "\n",
    "        data_ingestion_config = DataIngestionConfig(\n",
    "            root_dir=config.root_dir,\n",
    "            source_URL=config.source_URL,\n",
    "            local_data_file=config.local_data_file,\n",
    "            unzip_dir=config.unzip_dir \n",
    "        )\n",
    "\n",
    "        return data_ingestion_config"
   ]
  },
  {
   "cell_type": "code",
   "execution_count": 10,
   "id": "331b2570",
   "metadata": {},
   "outputs": [],
   "source": [
    "import os\n",
    "import urllib.request as request\n",
    "import zipfile\n",
    "from cnnClassifier import logger\n",
    "from cnnClassifier.utils.common import get_size"
   ]
  },
  {
   "cell_type": "code",
   "execution_count": 11,
   "id": "6edb3b7b",
   "metadata": {},
   "outputs": [],
   "source": [
    "class DataIngestion:\n",
    "    def __init__(self, config: DataIngestionConfig):\n",
    "        self.config = config\n",
    "\n",
    "\n",
    "    \n",
    "    def download_file(self):\n",
    "        if not os.path.exists(self.config.local_data_file):\n",
    "            filename, headers = request.urlretrieve(\n",
    "                url = self.config.source_URL,\n",
    "                filename = self.config.local_data_file\n",
    "            )\n",
    "            logger.info(f\"{filename} download! with following info: \\n{headers}\")\n",
    "        else:\n",
    "            logger.info(f\"File already exists of size: {get_size(Path(self.config.local_data_file))}\")  \n",
    "\n",
    "\n",
    "    \n",
    "    def extract_zip_file(self):\n",
    "        \"\"\"\n",
    "        zip_file_path: str\n",
    "        Extracts the zip file into the data directory\n",
    "        Function returns None\n",
    "        \"\"\"\n",
    "        unzip_path = self.config.unzip_dir\n",
    "        os.makedirs(unzip_path, exist_ok=True)\n",
    "        with zipfile.ZipFile(self.config.local_data_file, 'r') as zip_ref:\n",
    "            zip_ref.extractall(unzip_path)"
   ]
  },
  {
   "cell_type": "code",
   "execution_count": 12,
   "id": "c2da429b",
   "metadata": {},
   "outputs": [],
   "source": [
    "config = read_yaml(CONFIG_FILE_PATH)"
   ]
  },
  {
   "cell_type": "code",
   "execution_count": 13,
   "id": "1d863e60",
   "metadata": {},
   "outputs": [
    {
     "name": "stdout",
     "output_type": "stream",
     "text": [
      "artifacts\n"
     ]
    }
   ],
   "source": [
    "print(config.artifacts_root)"
   ]
  },
  {
   "cell_type": "code",
   "execution_count": 14,
   "id": "db71c621",
   "metadata": {},
   "outputs": [
    {
     "name": "stdout",
     "output_type": "stream",
     "text": [
      "artifacts/data_ingestion\n"
     ]
    }
   ],
   "source": [
    "print(config.data_ingestion.root_dir)"
   ]
  },
  {
   "cell_type": "code",
   "execution_count": 18,
   "id": "8aaacb65",
   "metadata": {},
   "outputs": [
    {
     "name": "stdout",
     "output_type": "stream",
     "text": [
      "[2025-08-21 19:05:27,429 : INFO : common  : created directory at: artifacts ]\n",
      "[2025-08-21 19:05:27,430 : INFO : common  : created directory at: artifacts/data_ingestion ]\n",
      "[2025-08-21 19:05:27,431 : INFO : 4037744573  : File already exists of size: ~ 11345 KB ]\n"
     ]
    }
   ],
   "source": [
    "try:\n",
    "    config = ConfigurationManager()\n",
    "    data_ingestion_config = config.get_data_ingestion_config()\n",
    "    data_ingestion = DataIngestion(config=data_ingestion_config)\n",
    "    data_ingestion.download_file()\n",
    "    data_ingestion.extract_zip_file()\n",
    "except Exception as e:\n",
    "    raise e"
   ]
  },
  {
   "cell_type": "code",
   "execution_count": null,
   "id": "8ffba49c",
   "metadata": {},
   "outputs": [],
   "source": [
    "config = ConfigurationManager()"
   ]
  },
  {
   "cell_type": "code",
   "execution_count": null,
   "id": "201f8d81",
   "metadata": {},
   "outputs": [],
   "source": [
    "\n",
    "yaml_file = PARAMS_FILE_PATH"
   ]
  },
  {
   "cell_type": "code",
   "execution_count": null,
   "id": "e25b4c1f",
   "metadata": {},
   "outputs": [],
   "source": [
    "yaml_file "
   ]
  },
  {
   "cell_type": "code",
   "execution_count": null,
   "id": "92227f98",
   "metadata": {},
   "outputs": [],
   "source": [
    "import yaml\n",
    "with open(yaml_file, \"r\") as f:\n",
    "    content = yaml.safe_load(f)\n",
    "print(f\"DEBUG: YAML content = {content}\")"
   ]
  },
  {
   "cell_type": "code",
   "execution_count": null,
   "id": "c26a88cc",
   "metadata": {},
   "outputs": [],
   "source": [
    "type(content)"
   ]
  },
  {
   "cell_type": "code",
   "execution_count": null,
   "id": "3b4019b5",
   "metadata": {},
   "outputs": [],
   "source": []
  }
 ],
 "metadata": {
  "kernelspec": {
   "display_name": "chicken_disease_env",
   "language": "python",
   "name": "python3"
  },
  "language_info": {
   "codemirror_mode": {
    "name": "ipython",
    "version": 3
   },
   "file_extension": ".py",
   "mimetype": "text/x-python",
   "name": "python",
   "nbconvert_exporter": "python",
   "pygments_lexer": "ipython3",
   "version": "3.12.0"
  }
 },
 "nbformat": 4,
 "nbformat_minor": 5
}
